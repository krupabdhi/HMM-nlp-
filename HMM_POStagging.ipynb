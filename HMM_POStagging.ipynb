{
 "cells": [
  {
   "cell_type": "markdown",
   "metadata": {},
   "source": [
    "## POS tagging using modified Viterbi"
   ]
  },
  {
   "cell_type": "markdown",
   "metadata": {},
   "source": [
    "### Data Preparation"
   ]
  },
  {
   "cell_type": "code",
   "execution_count": 1,
   "metadata": {},
   "outputs": [],
   "source": [
    "#Importing libraries\n",
    "import nltk\n",
    "import numpy as np\n",
    "import pandas as pd\n",
    "import pprint,re, time\n",
    "import matplotlib.pyplot as plt\n",
    "import requests\n",
    "import seaborn as sns\n",
    "import random\n",
    "from nltk.tokenize import word_tokenize\n",
    "\n",
    "#import gzip,os,pickle\n",
    "#import _pickle as cPickle\n",
    "\n",
    "import sklearn\n",
    "from sklearn.model_selection import train_test_split\n",
    "#from sklearn.model_selection import GridSearchCV\n",
    "#from sklearn.model_selection import RandomizedSearchCV\n",
    "\n",
    "\n",
    "#supress warnings\n",
    "import warnings\n",
    "warnings.filterwarnings('ignore')"
   ]
  },
  {
   "cell_type": "code",
   "execution_count": 2,
   "metadata": {},
   "outputs": [],
   "source": [
    "# reading the Treebank tagged sentences\n",
    "nltk_data = list(nltk.corpus.treebank.tagged_sents(tagset='universal'))"
   ]
  },
  {
   "cell_type": "code",
   "execution_count": 3,
   "metadata": {},
   "outputs": [
    {
     "data": {
      "text/plain": [
       "[[('Pierre', 'NOUN'),\n",
       "  ('Vinken', 'NOUN'),\n",
       "  (',', '.'),\n",
       "  ('61', 'NUM'),\n",
       "  ('years', 'NOUN'),\n",
       "  ('old', 'ADJ'),\n",
       "  (',', '.'),\n",
       "  ('will', 'VERB'),\n",
       "  ('join', 'VERB'),\n",
       "  ('the', 'DET'),\n",
       "  ('board', 'NOUN'),\n",
       "  ('as', 'ADP'),\n",
       "  ('a', 'DET'),\n",
       "  ('nonexecutive', 'ADJ'),\n",
       "  ('director', 'NOUN'),\n",
       "  ('Nov.', 'NOUN'),\n",
       "  ('29', 'NUM'),\n",
       "  ('.', '.')],\n",
       " [('Mr.', 'NOUN'),\n",
       "  ('Vinken', 'NOUN'),\n",
       "  ('is', 'VERB'),\n",
       "  ('chairman', 'NOUN'),\n",
       "  ('of', 'ADP'),\n",
       "  ('Elsevier', 'NOUN'),\n",
       "  ('N.V.', 'NOUN'),\n",
       "  (',', '.'),\n",
       "  ('the', 'DET'),\n",
       "  ('Dutch', 'NOUN'),\n",
       "  ('publishing', 'VERB'),\n",
       "  ('group', 'NOUN'),\n",
       "  ('.', '.')],\n",
       " [('Rudolph', 'NOUN'),\n",
       "  ('Agnew', 'NOUN'),\n",
       "  (',', '.'),\n",
       "  ('55', 'NUM'),\n",
       "  ('years', 'NOUN'),\n",
       "  ('old', 'ADJ'),\n",
       "  ('and', 'CONJ'),\n",
       "  ('former', 'ADJ'),\n",
       "  ('chairman', 'NOUN'),\n",
       "  ('of', 'ADP'),\n",
       "  ('Consolidated', 'NOUN'),\n",
       "  ('Gold', 'NOUN'),\n",
       "  ('Fields', 'NOUN'),\n",
       "  ('PLC', 'NOUN'),\n",
       "  (',', '.'),\n",
       "  ('was', 'VERB'),\n",
       "  ('named', 'VERB'),\n",
       "  ('*-1', 'X'),\n",
       "  ('a', 'DET'),\n",
       "  ('nonexecutive', 'ADJ'),\n",
       "  ('director', 'NOUN'),\n",
       "  ('of', 'ADP'),\n",
       "  ('this', 'DET'),\n",
       "  ('British', 'ADJ'),\n",
       "  ('industrial', 'ADJ'),\n",
       "  ('conglomerate', 'NOUN'),\n",
       "  ('.', '.')],\n",
       " [('A', 'DET'),\n",
       "  ('form', 'NOUN'),\n",
       "  ('of', 'ADP'),\n",
       "  ('asbestos', 'NOUN'),\n",
       "  ('once', 'ADV'),\n",
       "  ('used', 'VERB'),\n",
       "  ('*', 'X'),\n",
       "  ('*', 'X'),\n",
       "  ('to', 'PRT'),\n",
       "  ('make', 'VERB'),\n",
       "  ('Kent', 'NOUN'),\n",
       "  ('cigarette', 'NOUN'),\n",
       "  ('filters', 'NOUN'),\n",
       "  ('has', 'VERB'),\n",
       "  ('caused', 'VERB'),\n",
       "  ('a', 'DET'),\n",
       "  ('high', 'ADJ'),\n",
       "  ('percentage', 'NOUN'),\n",
       "  ('of', 'ADP'),\n",
       "  ('cancer', 'NOUN'),\n",
       "  ('deaths', 'NOUN'),\n",
       "  ('among', 'ADP'),\n",
       "  ('a', 'DET'),\n",
       "  ('group', 'NOUN'),\n",
       "  ('of', 'ADP'),\n",
       "  ('workers', 'NOUN'),\n",
       "  ('exposed', 'VERB'),\n",
       "  ('*', 'X'),\n",
       "  ('to', 'PRT'),\n",
       "  ('it', 'PRON'),\n",
       "  ('more', 'ADV'),\n",
       "  ('than', 'ADP'),\n",
       "  ('30', 'NUM'),\n",
       "  ('years', 'NOUN'),\n",
       "  ('ago', 'ADP'),\n",
       "  (',', '.'),\n",
       "  ('researchers', 'NOUN'),\n",
       "  ('reported', 'VERB'),\n",
       "  ('0', 'X'),\n",
       "  ('*T*-1', 'X'),\n",
       "  ('.', '.')],\n",
       " [('The', 'DET'),\n",
       "  ('asbestos', 'NOUN'),\n",
       "  ('fiber', 'NOUN'),\n",
       "  (',', '.'),\n",
       "  ('crocidolite', 'NOUN'),\n",
       "  (',', '.'),\n",
       "  ('is', 'VERB'),\n",
       "  ('unusually', 'ADV'),\n",
       "  ('resilient', 'ADJ'),\n",
       "  ('once', 'ADP'),\n",
       "  ('it', 'PRON'),\n",
       "  ('enters', 'VERB'),\n",
       "  ('the', 'DET'),\n",
       "  ('lungs', 'NOUN'),\n",
       "  (',', '.'),\n",
       "  ('with', 'ADP'),\n",
       "  ('even', 'ADV'),\n",
       "  ('brief', 'ADJ'),\n",
       "  ('exposures', 'NOUN'),\n",
       "  ('to', 'PRT'),\n",
       "  ('it', 'PRON'),\n",
       "  ('causing', 'VERB'),\n",
       "  ('symptoms', 'NOUN'),\n",
       "  ('that', 'DET'),\n",
       "  ('*T*-1', 'X'),\n",
       "  ('show', 'VERB'),\n",
       "  ('up', 'PRT'),\n",
       "  ('decades', 'NOUN'),\n",
       "  ('later', 'ADJ'),\n",
       "  (',', '.'),\n",
       "  ('researchers', 'NOUN'),\n",
       "  ('said', 'VERB'),\n",
       "  ('0', 'X'),\n",
       "  ('*T*-2', 'X'),\n",
       "  ('.', '.')]]"
      ]
     },
     "execution_count": 3,
     "metadata": {},
     "output_type": "execute_result"
    }
   ],
   "source": [
    "#samples: each sentence is a list of(word,pos) tuple\n",
    "nltk_data[:5]"
   ]
  },
  {
   "cell_type": "code",
   "execution_count": 4,
   "metadata": {},
   "outputs": [
    {
     "name": "stdout",
     "output_type": "stream",
     "text": [
      "3718\n",
      "196\n",
      "[[('Mr.', 'NOUN'), ('Trump', 'NOUN'), ('withdrew', 'VERB'), ('a', 'DET'), ('$', '.'), ('120-a-share', 'ADJ'), ('*U*', 'X'), ('bid', 'NOUN'), ('last', 'ADJ'), ('month', 'NOUN'), ('.', '.')], [('He', 'PRON'), ('and', 'CONJ'), ('other', 'ADJ'), ('critics', 'NOUN'), ('say', 'VERB'), ('0', 'X'), ('such', 'ADJ'), ('coaching', 'NOUN'), ('aids', 'NOUN'), ('can', 'VERB'), ('defeat', 'VERB'), ('the', 'DET'), ('purpose', 'NOUN'), ('of', 'ADP'), ('standardized', 'ADJ'), ('tests', 'NOUN'), (',', '.'), ('which', 'DET'), ('*T*-104', 'X'), ('is', 'VERB'), ('*', 'X'), ('to', 'PRT'), ('gauge', 'VERB'), ('learning', 'NOUN'), ('progress', 'NOUN'), ('.', '.')]]\n"
     ]
    }
   ],
   "source": [
    "#Dividing the nltk_data into train and test\n",
    "random.seed(1234)\n",
    "train_set, test_set = train_test_split(nltk_data, test_size=0.05)\n",
    "\n",
    "print(len(train_set))\n",
    "print(len(test_set))\n",
    "print(train_set[:2])"
   ]
  },
  {
   "cell_type": "code",
   "execution_count": 5,
   "metadata": {},
   "outputs": [
    {
     "name": "stdout",
     "output_type": "stream",
     "text": [
      "95929\n"
     ]
    },
    {
     "data": {
      "text/plain": [
       "[('Mr.', 'NOUN'),\n",
       " ('Trump', 'NOUN'),\n",
       " ('withdrew', 'VERB'),\n",
       " ('a', 'DET'),\n",
       " ('$', '.'),\n",
       " ('120-a-share', 'ADJ'),\n",
       " ('*U*', 'X'),\n",
       " ('bid', 'NOUN'),\n",
       " ('last', 'ADJ'),\n",
       " ('month', 'NOUN')]"
      ]
     },
     "execution_count": 5,
     "metadata": {},
     "output_type": "execute_result"
    }
   ],
   "source": [
    "#converting list of sentences to a list of (word,pos tag) tuples\n",
    "train_tagged_words = [tup for sent in train_set for tup in sent]\n",
    "print(len(train_tagged_words))\n",
    "train_tagged_words[:10]"
   ]
  },
  {
   "cell_type": "markdown",
   "metadata": {},
   "source": [
    "### Exploratory data Analysis"
   ]
  },
  {
   "cell_type": "code",
   "execution_count": 6,
   "metadata": {},
   "outputs": [
    {
     "data": {
      "text/plain": [
       "12"
      ]
     },
     "execution_count": 6,
     "metadata": {},
     "output_type": "execute_result"
    }
   ],
   "source": [
    "#Unique postags in the corpus\n",
    "tags = [pair[1] for pair in train_tagged_words]\n",
    "unique_tags = set(tags)\n",
    "len(unique_tags)"
   ]
  },
  {
   "cell_type": "code",
   "execution_count": 7,
   "metadata": {},
   "outputs": [
    {
     "data": {
      "text/plain": [
       "['Mr.',\n",
       " 'Trump',\n",
       " 'withdrew',\n",
       " 'a',\n",
       " '$',\n",
       " '120-a-share',\n",
       " '*U*',\n",
       " 'bid',\n",
       " 'last',\n",
       " 'month',\n",
       " '.',\n",
       " 'He',\n",
       " 'and',\n",
       " 'other',\n",
       " 'critics',\n",
       " 'say',\n",
       " '0',\n",
       " 'such',\n",
       " 'coaching',\n",
       " 'aids']"
      ]
     },
     "execution_count": 7,
     "metadata": {},
     "output_type": "execute_result"
    }
   ],
   "source": [
    "# tokens\n",
    "tokens = [pair[0] for pair in train_tagged_words]\n",
    "tokens[:20]"
   ]
  },
  {
   "cell_type": "code",
   "execution_count": 8,
   "metadata": {},
   "outputs": [
    {
     "data": {
      "text/plain": [
       "Counter({'NOUN': 27509,\n",
       "         'VERB': 12943,\n",
       "         'DET': 8333,\n",
       "         '.': 11137,\n",
       "         'ADJ': 6097,\n",
       "         'X': 6314,\n",
       "         'PRON': 2620,\n",
       "         'CONJ': 2162,\n",
       "         'ADP': 9400,\n",
       "         'PRT': 3059,\n",
       "         'ADV': 3012,\n",
       "         'NUM': 3343})"
      ]
     },
     "execution_count": 8,
     "metadata": {},
     "output_type": "execute_result"
    }
   ],
   "source": [
    "#Most frequent tag in the corpus\n",
    "from collections import Counter\n",
    "tag_counts = Counter(tags)\n",
    "tag_counts"
   ]
  },
  {
   "cell_type": "code",
   "execution_count": 9,
   "metadata": {},
   "outputs": [
    {
     "data": {
      "text/plain": [
       "[('NOUN', 27509), ('VERB', 12943), ('.', 11137), ('ADP', 9400), ('DET', 8333)]"
      ]
     },
     "execution_count": 9,
     "metadata": {},
     "output_type": "execute_result"
    }
   ],
   "source": [
    "# the most common tags can be seen using the most_common() method of Counter\n",
    "tag_counts.most_common(5)"
   ]
  },
  {
   "cell_type": "code",
   "execution_count": 10,
   "metadata": {},
   "outputs": [
    {
     "name": "stdout",
     "output_type": "stream",
     "text": [
      "0.20760256509310052\n"
     ]
    },
    {
     "data": {
      "text/plain": [
       "[('consented', 'VERB'),\n",
       " ('subordinated', 'VERB'),\n",
       " ('estimated', 'VERB'),\n",
       " ('focused', 'VERB'),\n",
       " ('gained', 'VERB'),\n",
       " ('estimated', 'VERB'),\n",
       " ('launched', 'VERB'),\n",
       " ('announced', 'VERB'),\n",
       " ('included', 'VERB'),\n",
       " ('refused', 'VERB'),\n",
       " ('recorded', 'VERB'),\n",
       " ('consented', 'VERB'),\n",
       " ('refused', 'VERB'),\n",
       " ('noted', 'VERB'),\n",
       " ('formed', 'VERB'),\n",
       " ('needed', 'VERB'),\n",
       " ('showed', 'VERB'),\n",
       " ('cared', 'VERB'),\n",
       " ('loved', 'VERB'),\n",
       " ('based', 'VERB')]"
      ]
     },
     "execution_count": 10,
     "metadata": {},
     "output_type": "execute_result"
    }
   ],
   "source": [
    "# how many words with the tag 'VERB' (verb, past tense) end with 'ed'\n",
    "past_tense_verbs = [pair for pair in train_tagged_words if pair[1]=='VERB']\n",
    "ed_verbs = [pair for pair in past_tense_verbs if pair[0].endswith('ed')]\n",
    "print(len(ed_verbs) / len(past_tense_verbs))\n",
    "ed_verbs[:20]"
   ]
  },
  {
   "cell_type": "code",
   "execution_count": 11,
   "metadata": {},
   "outputs": [
    {
     "name": "stdout",
     "output_type": "stream",
     "text": [
      "0.10793479100672178\n"
     ]
    },
    {
     "data": {
      "text/plain": [
       "[('growing', 'VERB'),\n",
       " ('showing', 'VERB'),\n",
       " ('according', 'VERB'),\n",
       " ('rising', 'VERB'),\n",
       " ('being', 'VERB'),\n",
       " ('admitting', 'VERB'),\n",
       " ('denying', 'VERB'),\n",
       " ('saying', 'VERB'),\n",
       " ('relating', 'VERB'),\n",
       " ('growing', 'VERB'),\n",
       " ('holding', 'VERB'),\n",
       " ('managing', 'VERB'),\n",
       " ('sorting', 'VERB'),\n",
       " ('taking', 'VERB'),\n",
       " ('curbing', 'VERB'),\n",
       " ('turning', 'VERB'),\n",
       " ('abolishing', 'VERB'),\n",
       " ('championing', 'VERB'),\n",
       " ('following', 'VERB'),\n",
       " ('booming', 'VERB')]"
      ]
     },
     "execution_count": 11,
     "metadata": {},
     "output_type": "execute_result"
    }
   ],
   "source": [
    "#how many words with the tag 'VERB' end with 'ing'\n",
    "participle_verbs = [pair for pair in train_tagged_words if pair[1]=='VERB']\n",
    "ing_verbs = [pair for pair in participle_verbs if pair[0].endswith('ing')]\n",
    "print(len(ing_verbs) / len(participle_verbs))\n",
    "ing_verbs[:20]"
   ]
  },
  {
   "cell_type": "code",
   "execution_count": 12,
   "metadata": {},
   "outputs": [
    {
     "name": "stdout",
     "output_type": "stream",
     "text": [
      "6097\n",
      "4274\n",
      "0.7010004920452682\n"
     ]
    }
   ],
   "source": [
    "# what fraction of adjectives ADJ are followed by a noun NOUN \n",
    "\n",
    "# create a list of all tags (without the words)\n",
    "tags = [pair[1] for pair in train_tagged_words]\n",
    "\n",
    "# create a list of JJ tags\n",
    "jj_tags = [t for t in tags if t == 'ADJ']\n",
    "\n",
    "# create a list of (JJ, NN) tags\n",
    "jj_nn_tags = [(t, tags[index+1]) for index, t in enumerate(tags) \n",
    "              if t=='ADJ' and tags[index+1]=='NOUN']\n",
    "\n",
    "print(len(jj_tags))\n",
    "print(len(jj_nn_tags))\n",
    "print(len(jj_nn_tags) / len(jj_tags))"
   ]
  },
  {
   "cell_type": "code",
   "execution_count": 13,
   "metadata": {},
   "outputs": [
    {
     "name": "stdout",
     "output_type": "stream",
     "text": [
      "8333\n",
      "5328\n",
      "0.6393855754230169\n"
     ]
    }
   ],
   "source": [
    "#what fraction of determiners DET are followed by a noun NOUN\n",
    "dt_tags = [t for t in tags if t == 'DET']\n",
    "dt_nn_tags = [(t, tags[index+1]) for index, t in enumerate(tags) \n",
    "              if t=='DET' and tags[index+1]=='NOUN']\n",
    "\n",
    "print(len(dt_tags))\n",
    "print(len(dt_nn_tags))\n",
    "print(len(dt_nn_tags) / len(dt_tags))"
   ]
  },
  {
   "cell_type": "markdown",
   "metadata": {},
   "source": [
    "## Lexical  Model for POS Tagging "
   ]
  },
  {
   "cell_type": "markdown",
   "metadata": {},
   "source": [
    "### Lexicon (unigram)"
   ]
  },
  {
   "cell_type": "code",
   "execution_count": 14,
   "metadata": {},
   "outputs": [
    {
     "data": {
      "text/plain": [
       "0.9064672424689277"
      ]
     },
     "execution_count": 14,
     "metadata": {},
     "output_type": "execute_result"
    }
   ],
   "source": [
    "# Lexicon (or unigram tagger)\n",
    "unigram_tagger = nltk.UnigramTagger(train_set)\n",
    "unigram_tagger.evaluate(test_set)"
   ]
  },
  {
   "cell_type": "code",
   "execution_count": null,
   "metadata": {},
   "outputs": [],
   "source": []
  },
  {
   "cell_type": "code",
   "execution_count": null,
   "metadata": {},
   "outputs": [],
   "source": []
  },
  {
   "cell_type": "code",
   "execution_count": null,
   "metadata": {},
   "outputs": [],
   "source": []
  },
  {
   "cell_type": "markdown",
   "metadata": {},
   "source": [
    "### POS TAGGING ALGORITHM-- Vanilla viterbi "
   ]
  },
  {
   "cell_type": "code",
   "execution_count": 15,
   "metadata": {},
   "outputs": [
    {
     "data": {
      "text/plain": [
       "['Mr.',\n",
       " 'Trump',\n",
       " 'withdrew',\n",
       " 'a',\n",
       " '$',\n",
       " '120-a-share',\n",
       " '*U*',\n",
       " 'bid',\n",
       " 'last',\n",
       " 'month']"
      ]
     },
     "execution_count": 15,
     "metadata": {},
     "output_type": "execute_result"
    }
   ],
   "source": [
    "# tokens \n",
    "tokens = [pair[0] for pair in train_tagged_words]\n",
    "tokens[:10]"
   ]
  },
  {
   "cell_type": "code",
   "execution_count": 16,
   "metadata": {},
   "outputs": [
    {
     "name": "stdout",
     "output_type": "stream",
     "text": [
      "12098\n"
     ]
    }
   ],
   "source": [
    "# vocabulary\n",
    "V = set(tokens)\n",
    "print(len(V))"
   ]
  },
  {
   "cell_type": "code",
   "execution_count": 18,
   "metadata": {},
   "outputs": [
    {
     "data": {
      "text/plain": [
       "12"
      ]
     },
     "execution_count": 18,
     "metadata": {},
     "output_type": "execute_result"
    }
   ],
   "source": [
    "# number of tags\n",
    "T = set([pair[1] for pair in train_tagged_words])\n",
    "len(T)"
   ]
  },
  {
   "cell_type": "code",
   "execution_count": 19,
   "metadata": {},
   "outputs": [
    {
     "name": "stdout",
     "output_type": "stream",
     "text": [
      "{'NUM', 'X', 'NOUN', 'VERB', 'DET', '.', 'ADJ', 'CONJ', 'PRON', 'ADP', 'PRT', 'ADV'}\n"
     ]
    }
   ],
   "source": [
    "print(T)"
   ]
  },
  {
   "cell_type": "code",
   "execution_count": null,
   "metadata": {},
   "outputs": [],
   "source": []
  },
  {
   "cell_type": "markdown",
   "metadata": {},
   "source": [
    "#### EMISSION PROBABILITIES"
   ]
  },
  {
   "cell_type": "code",
   "execution_count": 20,
   "metadata": {},
   "outputs": [],
   "source": [
    "# computing P(w/t) and storing in T x V matrix\n",
    "t = len(T)\n",
    "v = len(V)\n",
    "w_given_t = np.zeros((t, v))"
   ]
  },
  {
   "cell_type": "code",
   "execution_count": 21,
   "metadata": {},
   "outputs": [],
   "source": [
    "# compute word given tag: Emission Probability\n",
    "def word_given_tag(word, tag, train_bag = train_tagged_words):\n",
    "    tag_list = [pair for pair in train_bag if pair[1]==tag]\n",
    "    count_tag = len(tag_list)\n",
    "    w_given_tag_list = [pair[0] for pair in tag_list if pair[0]==word]\n",
    "    count_w_given_tag = len(w_given_tag_list)\n",
    "    \n",
    "    return (count_w_given_tag, count_tag)"
   ]
  },
  {
   "cell_type": "code",
   "execution_count": 22,
   "metadata": {},
   "outputs": [
    {
     "name": "stdout",
     "output_type": "stream",
     "text": [
      "\n",
      " large\n",
      "(29, 6097)\n",
      "(0, 12943)\n",
      "(0, 27509) \n",
      "\n"
     ]
    }
   ],
   "source": [
    "# examples\n",
    "\n",
    "# large\n",
    "print(\"\\n\", \"large\")\n",
    "print(word_given_tag('large', 'ADJ'))\n",
    "print(word_given_tag('large', 'VERB'))\n",
    "print(word_given_tag('large', 'NOUN'), \"\\n\")\n"
   ]
  },
  {
   "cell_type": "markdown",
   "metadata": {},
   "source": [
    "#### TRANSITION PROBABILITIES"
   ]
  },
  {
   "cell_type": "code",
   "execution_count": 23,
   "metadata": {},
   "outputs": [],
   "source": [
    "# compute tag given tag: tag2(t2) given tag1 (t1), i.e. Transition Probability\n",
    "\n",
    "def t2_given_t1(t2, t1, train_bag = train_tagged_words):\n",
    "    tags = [pair[1] for pair in train_bag]\n",
    "    count_t1 = len([t for t in tags if t==t1])\n",
    "    count_t2_t1 = 0\n",
    "    for index in range(len(tags)-1):\n",
    "        if tags[index]==t1 and tags[index+1] == t2:\n",
    "            count_t2_t1 += 1\n",
    "    return (count_t2_t1, count_t1)"
   ]
  },
  {
   "cell_type": "code",
   "execution_count": 24,
   "metadata": {},
   "outputs": [
    {
     "name": "stdout",
     "output_type": "stream",
     "text": [
      "(4274, 6097)\n",
      "(4274, 6097)\n",
      "(5328, 8333)\n",
      "(1425, 12943)\n",
      "(6596, 27509)\n"
     ]
    }
   ],
   "source": [
    "# examples\n",
    "print(t2_given_t1(t2='NOUN', t1='ADJ'))\n",
    "print(t2_given_t1('NOUN', 'ADJ'))\n",
    "print(t2_given_t1('NOUN', 'DET'))\n",
    "print(t2_given_t1('NOUN', 'VERB'))\n",
    "print(t2_given_t1('.', 'NOUN'))\n"
   ]
  },
  {
   "cell_type": "code",
   "execution_count": 25,
   "metadata": {},
   "outputs": [],
   "source": [
    "# creating t x t transition matrix of tags\n",
    "# each column is t2, each row is t1\n",
    "# thus M(i, j) represents P(tj given ti)\n",
    "\n",
    "tags_matrix = np.zeros((len(T), len(T)), dtype='float32')\n",
    "for i, t1 in enumerate(list(T)):\n",
    "    for j, t2 in enumerate(list(T)): \n",
    "        tags_matrix[i, j] = t2_given_t1(t2, t1)[0]/t2_given_t1(t2, t1)[1]"
   ]
  },
  {
   "cell_type": "code",
   "execution_count": 26,
   "metadata": {},
   "outputs": [
    {
     "data": {
      "text/plain": [
       "array([[1.83667362e-01, 2.11187556e-01, 3.53574634e-01, 1.82470828e-02,\n",
       "        3.58959008e-03, 1.16661683e-01, 3.23063135e-02, 1.37600955e-02,\n",
       "        1.49566261e-03, 3.49985026e-02, 2.75201909e-02, 2.99132522e-03],\n",
       "       [2.69242958e-03, 7.49128908e-02, 6.17674999e-02, 2.03515992e-01,\n",
       "        5.54323718e-02, 1.64079830e-01, 1.69464685e-02, 1.04529615e-02,\n",
       "        5.70161529e-02, 1.44282550e-01, 1.84035480e-01, 2.48653777e-02],\n",
       "       [9.23334155e-03, 2.92631499e-02, 2.64240801e-01, 1.46715626e-01,\n",
       "        1.33774402e-02, 2.39776075e-01, 1.22505361e-02, 4.27132957e-02,\n",
       "        4.50761570e-03, 1.77178383e-01, 4.39492539e-02, 1.67945027e-02],\n",
       "       [2.26377193e-02, 2.18341962e-01, 1.10098124e-01, 1.69744268e-01,\n",
       "        1.33431196e-01, 3.48450914e-02, 6.56725615e-02, 5.56285260e-03,\n",
       "        3.55404466e-02, 9.11689699e-02, 3.12137827e-02, 8.17430243e-02],\n",
       "       [2.17208695e-02, 4.59618382e-02, 6.39385581e-01, 4.03216146e-02,\n",
       "        5.76023059e-03, 1.69206765e-02, 2.03768149e-01, 4.80019196e-04,\n",
       "        3.72014870e-03, 9.00036003e-03, 2.40009598e-04, 1.27205085e-02],\n",
       "       [8.02729651e-02, 2.63984911e-02, 2.20167011e-01, 8.91622528e-02,\n",
       "        1.75540984e-01, 9.39211622e-02, 4.44464386e-02, 5.84538020e-02,\n",
       "        6.61758110e-02, 9.09580663e-02, 2.33456050e-03, 5.20786569e-02],\n",
       "       [2.03378703e-02, 2.14859769e-02, 7.01000512e-01, 1.24651464e-02,\n",
       "        4.92045283e-03, 6.41298965e-02, 6.59340695e-02, 1.65655240e-02,\n",
       "        6.56060351e-04, 7.79071674e-02, 9.84090567e-03, 4.75643761e-03],\n",
       "       [4.20906581e-02, 8.78815912e-03, 3.51526350e-01, 1.51248842e-01,\n",
       "        1.20259017e-01, 3.65402400e-02, 1.17021278e-01, 4.62534692e-04,\n",
       "        5.92044406e-02, 5.31914905e-02, 5.08788181e-03, 5.45790941e-02],\n",
       "       [6.87022880e-03, 9.23664123e-02, 2.08396941e-01, 4.88549620e-01,\n",
       "        9.54198465e-03, 3.96946557e-02, 7.32824430e-02, 4.58015269e-03,\n",
       "        7.25190854e-03, 2.21374054e-02, 1.25954198e-02, 3.47328261e-02],\n",
       "       [6.24468103e-02, 3.45744677e-02, 3.22340429e-01, 8.40425491e-03,\n",
       "        3.23510647e-01, 3.92553173e-02, 1.07446812e-01, 8.51063814e-04,\n",
       "        6.90425560e-02, 1.70212761e-02, 1.38297875e-03, 1.37234041e-02],\n",
       "       [5.81889488e-02, 1.30761685e-02, 2.46158868e-01, 4.02419090e-01,\n",
       "        1.01013400e-01, 4.11899313e-02, 8.53220001e-02, 1.63452106e-03,\n",
       "        1.79797318e-02, 2.09218692e-02, 1.96142541e-03, 1.01340311e-02],\n",
       "       [3.05444896e-02, 2.32403725e-02, 3.28685269e-02, 3.45949531e-01,\n",
       "        6.90571070e-02, 1.35458171e-01, 1.27490044e-01, 6.97211176e-03,\n",
       "        1.59362555e-02, 1.18857905e-01, 1.36122182e-02, 8.00132826e-02]],\n",
       "      dtype=float32)"
      ]
     },
     "execution_count": 26,
     "metadata": {},
     "output_type": "execute_result"
    }
   ],
   "source": [
    "tags_matrix"
   ]
  },
  {
   "cell_type": "code",
   "execution_count": 27,
   "metadata": {},
   "outputs": [],
   "source": [
    "# convert the matrix to a df for better readability\n",
    "tags_df = pd.DataFrame(tags_matrix, columns = list(T), index=list(T))"
   ]
  },
  {
   "cell_type": "code",
   "execution_count": 28,
   "metadata": {},
   "outputs": [
    {
     "data": {
      "text/html": [
       "<div>\n",
       "<style scoped>\n",
       "    .dataframe tbody tr th:only-of-type {\n",
       "        vertical-align: middle;\n",
       "    }\n",
       "\n",
       "    .dataframe tbody tr th {\n",
       "        vertical-align: top;\n",
       "    }\n",
       "\n",
       "    .dataframe thead th {\n",
       "        text-align: right;\n",
       "    }\n",
       "</style>\n",
       "<table border=\"1\" class=\"dataframe\">\n",
       "  <thead>\n",
       "    <tr style=\"text-align: right;\">\n",
       "      <th></th>\n",
       "      <th>NUM</th>\n",
       "      <th>X</th>\n",
       "      <th>NOUN</th>\n",
       "      <th>VERB</th>\n",
       "      <th>DET</th>\n",
       "      <th>.</th>\n",
       "      <th>ADJ</th>\n",
       "      <th>CONJ</th>\n",
       "      <th>PRON</th>\n",
       "      <th>ADP</th>\n",
       "      <th>PRT</th>\n",
       "      <th>ADV</th>\n",
       "    </tr>\n",
       "  </thead>\n",
       "  <tbody>\n",
       "    <tr>\n",
       "      <th>NUM</th>\n",
       "      <td>0.183667</td>\n",
       "      <td>0.211188</td>\n",
       "      <td>0.353575</td>\n",
       "      <td>0.018247</td>\n",
       "      <td>0.003590</td>\n",
       "      <td>0.116662</td>\n",
       "      <td>0.032306</td>\n",
       "      <td>0.013760</td>\n",
       "      <td>0.001496</td>\n",
       "      <td>0.034999</td>\n",
       "      <td>0.027520</td>\n",
       "      <td>0.002991</td>\n",
       "    </tr>\n",
       "    <tr>\n",
       "      <th>X</th>\n",
       "      <td>0.002692</td>\n",
       "      <td>0.074913</td>\n",
       "      <td>0.061767</td>\n",
       "      <td>0.203516</td>\n",
       "      <td>0.055432</td>\n",
       "      <td>0.164080</td>\n",
       "      <td>0.016946</td>\n",
       "      <td>0.010453</td>\n",
       "      <td>0.057016</td>\n",
       "      <td>0.144283</td>\n",
       "      <td>0.184035</td>\n",
       "      <td>0.024865</td>\n",
       "    </tr>\n",
       "    <tr>\n",
       "      <th>NOUN</th>\n",
       "      <td>0.009233</td>\n",
       "      <td>0.029263</td>\n",
       "      <td>0.264241</td>\n",
       "      <td>0.146716</td>\n",
       "      <td>0.013377</td>\n",
       "      <td>0.239776</td>\n",
       "      <td>0.012251</td>\n",
       "      <td>0.042713</td>\n",
       "      <td>0.004508</td>\n",
       "      <td>0.177178</td>\n",
       "      <td>0.043949</td>\n",
       "      <td>0.016795</td>\n",
       "    </tr>\n",
       "    <tr>\n",
       "      <th>VERB</th>\n",
       "      <td>0.022638</td>\n",
       "      <td>0.218342</td>\n",
       "      <td>0.110098</td>\n",
       "      <td>0.169744</td>\n",
       "      <td>0.133431</td>\n",
       "      <td>0.034845</td>\n",
       "      <td>0.065673</td>\n",
       "      <td>0.005563</td>\n",
       "      <td>0.035540</td>\n",
       "      <td>0.091169</td>\n",
       "      <td>0.031214</td>\n",
       "      <td>0.081743</td>\n",
       "    </tr>\n",
       "    <tr>\n",
       "      <th>DET</th>\n",
       "      <td>0.021721</td>\n",
       "      <td>0.045962</td>\n",
       "      <td>0.639386</td>\n",
       "      <td>0.040322</td>\n",
       "      <td>0.005760</td>\n",
       "      <td>0.016921</td>\n",
       "      <td>0.203768</td>\n",
       "      <td>0.000480</td>\n",
       "      <td>0.003720</td>\n",
       "      <td>0.009000</td>\n",
       "      <td>0.000240</td>\n",
       "      <td>0.012721</td>\n",
       "    </tr>\n",
       "    <tr>\n",
       "      <th>.</th>\n",
       "      <td>0.080273</td>\n",
       "      <td>0.026398</td>\n",
       "      <td>0.220167</td>\n",
       "      <td>0.089162</td>\n",
       "      <td>0.175541</td>\n",
       "      <td>0.093921</td>\n",
       "      <td>0.044446</td>\n",
       "      <td>0.058454</td>\n",
       "      <td>0.066176</td>\n",
       "      <td>0.090958</td>\n",
       "      <td>0.002335</td>\n",
       "      <td>0.052079</td>\n",
       "    </tr>\n",
       "    <tr>\n",
       "      <th>ADJ</th>\n",
       "      <td>0.020338</td>\n",
       "      <td>0.021486</td>\n",
       "      <td>0.701001</td>\n",
       "      <td>0.012465</td>\n",
       "      <td>0.004920</td>\n",
       "      <td>0.064130</td>\n",
       "      <td>0.065934</td>\n",
       "      <td>0.016566</td>\n",
       "      <td>0.000656</td>\n",
       "      <td>0.077907</td>\n",
       "      <td>0.009841</td>\n",
       "      <td>0.004756</td>\n",
       "    </tr>\n",
       "    <tr>\n",
       "      <th>CONJ</th>\n",
       "      <td>0.042091</td>\n",
       "      <td>0.008788</td>\n",
       "      <td>0.351526</td>\n",
       "      <td>0.151249</td>\n",
       "      <td>0.120259</td>\n",
       "      <td>0.036540</td>\n",
       "      <td>0.117021</td>\n",
       "      <td>0.000463</td>\n",
       "      <td>0.059204</td>\n",
       "      <td>0.053191</td>\n",
       "      <td>0.005088</td>\n",
       "      <td>0.054579</td>\n",
       "    </tr>\n",
       "    <tr>\n",
       "      <th>PRON</th>\n",
       "      <td>0.006870</td>\n",
       "      <td>0.092366</td>\n",
       "      <td>0.208397</td>\n",
       "      <td>0.488550</td>\n",
       "      <td>0.009542</td>\n",
       "      <td>0.039695</td>\n",
       "      <td>0.073282</td>\n",
       "      <td>0.004580</td>\n",
       "      <td>0.007252</td>\n",
       "      <td>0.022137</td>\n",
       "      <td>0.012595</td>\n",
       "      <td>0.034733</td>\n",
       "    </tr>\n",
       "    <tr>\n",
       "      <th>ADP</th>\n",
       "      <td>0.062447</td>\n",
       "      <td>0.034574</td>\n",
       "      <td>0.322340</td>\n",
       "      <td>0.008404</td>\n",
       "      <td>0.323511</td>\n",
       "      <td>0.039255</td>\n",
       "      <td>0.107447</td>\n",
       "      <td>0.000851</td>\n",
       "      <td>0.069043</td>\n",
       "      <td>0.017021</td>\n",
       "      <td>0.001383</td>\n",
       "      <td>0.013723</td>\n",
       "    </tr>\n",
       "    <tr>\n",
       "      <th>PRT</th>\n",
       "      <td>0.058189</td>\n",
       "      <td>0.013076</td>\n",
       "      <td>0.246159</td>\n",
       "      <td>0.402419</td>\n",
       "      <td>0.101013</td>\n",
       "      <td>0.041190</td>\n",
       "      <td>0.085322</td>\n",
       "      <td>0.001635</td>\n",
       "      <td>0.017980</td>\n",
       "      <td>0.020922</td>\n",
       "      <td>0.001961</td>\n",
       "      <td>0.010134</td>\n",
       "    </tr>\n",
       "    <tr>\n",
       "      <th>ADV</th>\n",
       "      <td>0.030544</td>\n",
       "      <td>0.023240</td>\n",
       "      <td>0.032869</td>\n",
       "      <td>0.345950</td>\n",
       "      <td>0.069057</td>\n",
       "      <td>0.135458</td>\n",
       "      <td>0.127490</td>\n",
       "      <td>0.006972</td>\n",
       "      <td>0.015936</td>\n",
       "      <td>0.118858</td>\n",
       "      <td>0.013612</td>\n",
       "      <td>0.080013</td>\n",
       "    </tr>\n",
       "  </tbody>\n",
       "</table>\n",
       "</div>"
      ],
      "text/plain": [
       "           NUM         X      NOUN      VERB       DET         .       ADJ  \\\n",
       "NUM   0.183667  0.211188  0.353575  0.018247  0.003590  0.116662  0.032306   \n",
       "X     0.002692  0.074913  0.061767  0.203516  0.055432  0.164080  0.016946   \n",
       "NOUN  0.009233  0.029263  0.264241  0.146716  0.013377  0.239776  0.012251   \n",
       "VERB  0.022638  0.218342  0.110098  0.169744  0.133431  0.034845  0.065673   \n",
       "DET   0.021721  0.045962  0.639386  0.040322  0.005760  0.016921  0.203768   \n",
       ".     0.080273  0.026398  0.220167  0.089162  0.175541  0.093921  0.044446   \n",
       "ADJ   0.020338  0.021486  0.701001  0.012465  0.004920  0.064130  0.065934   \n",
       "CONJ  0.042091  0.008788  0.351526  0.151249  0.120259  0.036540  0.117021   \n",
       "PRON  0.006870  0.092366  0.208397  0.488550  0.009542  0.039695  0.073282   \n",
       "ADP   0.062447  0.034574  0.322340  0.008404  0.323511  0.039255  0.107447   \n",
       "PRT   0.058189  0.013076  0.246159  0.402419  0.101013  0.041190  0.085322   \n",
       "ADV   0.030544  0.023240  0.032869  0.345950  0.069057  0.135458  0.127490   \n",
       "\n",
       "          CONJ      PRON       ADP       PRT       ADV  \n",
       "NUM   0.013760  0.001496  0.034999  0.027520  0.002991  \n",
       "X     0.010453  0.057016  0.144283  0.184035  0.024865  \n",
       "NOUN  0.042713  0.004508  0.177178  0.043949  0.016795  \n",
       "VERB  0.005563  0.035540  0.091169  0.031214  0.081743  \n",
       "DET   0.000480  0.003720  0.009000  0.000240  0.012721  \n",
       ".     0.058454  0.066176  0.090958  0.002335  0.052079  \n",
       "ADJ   0.016566  0.000656  0.077907  0.009841  0.004756  \n",
       "CONJ  0.000463  0.059204  0.053191  0.005088  0.054579  \n",
       "PRON  0.004580  0.007252  0.022137  0.012595  0.034733  \n",
       "ADP   0.000851  0.069043  0.017021  0.001383  0.013723  \n",
       "PRT   0.001635  0.017980  0.020922  0.001961  0.010134  \n",
       "ADV   0.006972  0.015936  0.118858  0.013612  0.080013  "
      ]
     },
     "execution_count": 28,
     "metadata": {},
     "output_type": "execute_result"
    }
   ],
   "source": [
    "tags_df"
   ]
  },
  {
   "cell_type": "code",
   "execution_count": 29,
   "metadata": {},
   "outputs": [
    {
     "data": {
      "text/plain": [
       "NUM     0.080273\n",
       "X       0.026398\n",
       "NOUN    0.220167\n",
       "VERB    0.089162\n",
       "DET     0.175541\n",
       ".       0.093921\n",
       "ADJ     0.044446\n",
       "CONJ    0.058454\n",
       "PRON    0.066176\n",
       "ADP     0.090958\n",
       "PRT     0.002335\n",
       "ADV     0.052079\n",
       "Name: ., dtype: float32"
      ]
     },
     "execution_count": 29,
     "metadata": {},
     "output_type": "execute_result"
    }
   ],
   "source": [
    "tags_df.loc['.', :]"
   ]
  },
  {
   "cell_type": "code",
   "execution_count": 30,
   "metadata": {},
   "outputs": [
    {
     "data": {
      "image/png": "[encoded data removed]",
      "text/plain": [
       "<Figure size 1296x864 with 2 Axes>"
      ]
     },
     "metadata": {
      "needs_background": "light"
     },
     "output_type": "display_data"
    }
   ],
   "source": [
    "# heatmap of tags matrix\n",
    "# T(i, j) means P(tag j given tag i)\n",
    "plt.figure(figsize=(18, 12))\n",
    "sns.heatmap(tags_df)\n",
    "plt.show()\n"
   ]
  },
  {
   "cell_type": "code",
   "execution_count": 31,
   "metadata": {},
   "outputs": [
    {
     "data": {
      "image/png": "[encoded data removed]",
      "text/plain": [
       "<Figure size 1296x864 with 2 Axes>"
      ]
     },
     "metadata": {
      "needs_background": "light"
     },
     "output_type": "display_data"
    }
   ],
   "source": [
    "# frequent tags\n",
    "# filter the df to get P(t2, t1) > 0.5\n",
    "tags_frequent = tags_df[tags_df>0.5]\n",
    "plt.figure(figsize=(18, 12))\n",
    "sns.heatmap(tags_frequent)\n",
    "plt.show()"
   ]
  },
  {
   "cell_type": "code",
   "execution_count": 32,
   "metadata": {},
   "outputs": [
    {
     "data": {
      "text/plain": [
       "95929"
      ]
     },
     "execution_count": 32,
     "metadata": {},
     "output_type": "execute_result"
    }
   ],
   "source": [
    "len(train_tagged_words)"
   ]
  },
  {
   "cell_type": "code",
   "execution_count": 33,
   "metadata": {},
   "outputs": [],
   "source": [
    "# Viterbi Heuristic\n",
    "def Viterbi(words, train_bag = train_tagged_words):\n",
    "    state = []\n",
    "    T = list(set([pair[1] for pair in train_bag]))\n",
    "    \n",
    "    for key, word in enumerate(words):\n",
    "        #initialise list of probability column for a given observation\n",
    "        p = [] \n",
    "        for tag in T:\n",
    "            if key == 0:\n",
    "                transition_p = tags_df.loc['.', tag]\n",
    "            else:\n",
    "                transition_p = tags_df.loc[state[-1], tag]\n",
    "                \n",
    "            # compute emission and state probabilities\n",
    "            emission_p = word_given_tag(words[key], tag)[0]/word_given_tag(words[key], tag)[1]\n",
    "            state_probability = emission_p * transition_p    \n",
    "            p.append(state_probability)\n",
    "            \n",
    "        pmax = max(p)\n",
    "        # getting state for which probability is maximum\n",
    "        state_max = T[p.index(pmax)] \n",
    "        state.append(state_max)\n",
    "    return list(zip(words, state))"
   ]
  },
  {
   "cell_type": "markdown",
   "metadata": {},
   "source": [
    "### Evaluating on test set"
   ]
  },
  {
   "cell_type": "code",
   "execution_count": 34,
   "metadata": {},
   "outputs": [
    {
     "data": {
      "text/plain": [
       "[[('The', 'DET'),\n",
       "  ('March', 'NOUN'),\n",
       "  ('and', 'CONJ'),\n",
       "  ('May', 'NOUN'),\n",
       "  ('contracts', 'NOUN'),\n",
       "  ('rose', 'VERB'),\n",
       "  ('to', 'PRT'),\n",
       "  ('fresh', 'ADJ'),\n",
       "  ('life-of-contract', 'ADJ'),\n",
       "  ('highs', 'NOUN'),\n",
       "  ('of', 'ADP'),\n",
       "  ('14.54', 'NUM'),\n",
       "  ('cents', 'NOUN'),\n",
       "  ('and', 'CONJ'),\n",
       "  ('14.28', 'NUM'),\n",
       "  ('cents', 'NOUN'),\n",
       "  ('at', 'ADP'),\n",
       "  ('their', 'PRON'),\n",
       "  ('best', 'ADJ'),\n",
       "  ('levels', 'NOUN'),\n",
       "  ('of', 'ADP'),\n",
       "  ('the', 'DET'),\n",
       "  ('day', 'NOUN'),\n",
       "  ('.', '.')],\n",
       " [('In', 'ADP'),\n",
       "  ('the', 'DET'),\n",
       "  ('1970s', 'NUM'),\n",
       "  (',', '.'),\n",
       "  ('scientists', 'NOUN'),\n",
       "  ('reported', 'VERB'),\n",
       "  ('cancer', 'NOUN'),\n",
       "  ('cases', 'NOUN'),\n",
       "  ('among', 'ADP'),\n",
       "  ('the', 'DET'),\n",
       "  ('daughters', 'NOUN'),\n",
       "  ('of', 'ADP'),\n",
       "  ('DES', 'NOUN'),\n",
       "  ('users', 'NOUN'),\n",
       "  ('.', '.')],\n",
       " [('The', 'DET'),\n",
       "  ('rights', 'NOUN'),\n",
       "  (',', '.'),\n",
       "  ('which', 'DET'),\n",
       "  ('*T*-173', 'X'),\n",
       "  ('expire', 'VERB'),\n",
       "  ('Nov.', 'NOUN'),\n",
       "  ('21', 'NUM'),\n",
       "  (',', '.'),\n",
       "  ('can', 'VERB'),\n",
       "  ('be', 'VERB'),\n",
       "  ('exercised', 'VERB'),\n",
       "  ('*-104', 'X'),\n",
       "  ('for', 'ADP'),\n",
       "  ('$', '.'),\n",
       "  ('100', 'NUM'),\n",
       "  ('*U*', 'X'),\n",
       "  ('each', 'DET'),\n",
       "  ('.', '.')],\n",
       " [('Mr.', 'NOUN'),\n",
       "  ('Spiegel', 'NOUN'),\n",
       "  (\"'s\", 'PRT'),\n",
       "  ('next', 'ADJ'),\n",
       "  ('career', 'NOUN'),\n",
       "  ('move', 'NOUN'),\n",
       "  ('is', 'VERB'),\n",
       "  ('a', 'DET'),\n",
       "  ('subject', 'NOUN'),\n",
       "  ('of', 'ADP'),\n",
       "  ('speculation', 'NOUN'),\n",
       "  ('on', 'ADP'),\n",
       "  ('Wall', 'NOUN'),\n",
       "  ('Street', 'NOUN'),\n",
       "  ('.', '.')],\n",
       " [('They', 'PRON'),\n",
       "  ('read', 'VERB'),\n",
       "  ('Mickey', 'NOUN'),\n",
       "  ('Spillane', 'NOUN'),\n",
       "  ('and', 'CONJ'),\n",
       "  ('talk', 'VERB'),\n",
       "  ('about', 'ADP'),\n",
       "  ('Groucho', 'NOUN'),\n",
       "  ('and', 'CONJ'),\n",
       "  ('Harpo', 'NOUN'),\n",
       "  ('.', '.')]]"
      ]
     },
     "execution_count": 34,
     "metadata": {},
     "output_type": "execute_result"
    }
   ],
   "source": [
    "\n",
    "# Let's test our Viterbi algorithm on a few sample sentences of test dataset\n",
    "\n",
    "random.seed(1234)\n",
    "\n",
    "# choose random 5 sents\n",
    "rndom = [random.randint(1,len(test_set)) for x in range(5)]\n",
    "\n",
    "# list of sents\n",
    "test_run = [test_set[i] for i in rndom]\n",
    "\n",
    "# list of tagged words\n",
    "test_run_base = [tup for sent in test_run for tup in sent]\n",
    "\n",
    "# list of untagged words\n",
    "test_tagged_words = [tup[0] for sent in test_run for tup in sent]\n",
    "test_run"
   ]
  },
  {
   "cell_type": "code",
   "execution_count": 35,
   "metadata": {},
   "outputs": [],
   "source": [
    "# tagging the test sentences\n",
    "start = time.time()\n",
    "tagged_seq = Viterbi(test_tagged_words)\n",
    "end = time.time()\n",
    "difference = end-start"
   ]
  },
  {
   "cell_type": "code",
   "execution_count": 36,
   "metadata": {},
   "outputs": [
    {
     "name": "stdout",
     "output_type": "stream",
     "text": [
      "Time taken in seconds:  34.408474922180176\n",
      "[('The', 'DET'), ('March', 'NOUN'), ('and', 'CONJ'), ('May', 'NOUN'), ('contracts', 'NOUN'), ('rose', 'VERB'), ('to', 'PRT'), ('fresh', 'ADJ'), ('life-of-contract', 'NUM'), ('highs', 'NOUN'), ('of', 'ADP'), ('14.54', 'NUM'), ('cents', 'NOUN'), ('and', 'CONJ'), ('14.28', 'NUM'), ('cents', 'NOUN'), ('at', 'ADP'), ('their', 'PRON'), ('best', 'ADJ'), ('levels', 'NOUN'), ('of', 'ADP'), ('the', 'DET'), ('day', 'NOUN'), ('.', '.'), ('In', 'ADP'), ('the', 'DET'), ('1970s', 'NUM'), (',', '.'), ('scientists', 'NOUN'), ('reported', 'VERB'), ('cancer', 'NOUN'), ('cases', 'NOUN'), ('among', 'ADP'), ('the', 'DET'), ('daughters', 'NOUN'), ('of', 'ADP'), ('DES', 'NOUN'), ('users', 'NOUN'), ('.', '.'), ('The', 'DET'), ('rights', 'NOUN'), (',', '.'), ('which', 'DET'), ('*T*-173', 'NUM'), ('expire', 'VERB'), ('Nov.', 'NOUN'), ('21', 'NUM'), (',', '.'), ('can', 'VERB'), ('be', 'VERB'), ('exercised', 'VERB'), ('*-104', 'NUM'), ('for', 'ADP'), ('$', '.'), ('100', 'NUM'), ('*U*', 'X'), ('each', 'DET'), ('.', '.'), ('Mr.', 'NOUN'), ('Spiegel', 'NOUN'), (\"'s\", 'PRT'), ('next', 'ADJ'), ('career', 'NOUN'), ('move', 'NOUN'), ('is', 'VERB'), ('a', 'DET'), ('subject', 'ADJ'), ('of', 'ADP'), ('speculation', 'NOUN'), ('on', 'ADP'), ('Wall', 'NOUN'), ('Street', 'NOUN'), ('.', '.'), ('They', 'PRON'), ('read', 'VERB'), ('Mickey', 'NUM'), ('Spillane', 'NUM'), ('and', 'CONJ'), ('talk', 'VERB'), ('about', 'ADP'), ('Groucho', 'NUM'), ('and', 'CONJ'), ('Harpo', 'NUM'), ('.', '.')]\n"
     ]
    }
   ],
   "source": [
    "print(\"Time taken in seconds: \", difference)\n",
    "print(tagged_seq)\n",
    "#print(test_run_base)"
   ]
  },
  {
   "cell_type": "code",
   "execution_count": 37,
   "metadata": {},
   "outputs": [],
   "source": [
    "# accuracy\n",
    "check = [i for i, j in zip(tagged_seq, test_run_base) if i == j] "
   ]
  },
  {
   "cell_type": "code",
   "execution_count": 38,
   "metadata": {},
   "outputs": [],
   "source": [
    "viterbi_accuracy = len(check)/len(tagged_seq)"
   ]
  },
  {
   "cell_type": "code",
   "execution_count": 39,
   "metadata": {},
   "outputs": [
    {
     "data": {
      "text/plain": [
       "0.9047619047619048"
      ]
     },
     "execution_count": 39,
     "metadata": {},
     "output_type": "execute_result"
    }
   ],
   "source": [
    "viterbi_accuracy"
   ]
  },
  {
   "cell_type": "code",
   "execution_count": 40,
   "metadata": {},
   "outputs": [],
   "source": [
    "incorrect_tagged_cases = [[test_run_base[i-1],j] for i, j in enumerate(zip(tagged_seq, test_run_base)) if j[0]!=j[1]]"
   ]
  },
  {
   "cell_type": "code",
   "execution_count": 41,
   "metadata": {},
   "outputs": [
    {
     "data": {
      "text/plain": [
       "[[('fresh', 'ADJ'),\n",
       "  (('life-of-contract', 'NUM'), ('life-of-contract', 'ADJ'))],\n",
       " [('which', 'DET'), (('*T*-173', 'NUM'), ('*T*-173', 'X'))],\n",
       " [('exercised', 'VERB'), (('*-104', 'NUM'), ('*-104', 'X'))],\n",
       " [('a', 'DET'), (('subject', 'ADJ'), ('subject', 'NOUN'))],\n",
       " [('read', 'VERB'), (('Mickey', 'NUM'), ('Mickey', 'NOUN'))],\n",
       " [('Mickey', 'NOUN'), (('Spillane', 'NUM'), ('Spillane', 'NOUN'))],\n",
       " [('about', 'ADP'), (('Groucho', 'NUM'), ('Groucho', 'NOUN'))],\n",
       " [('and', 'CONJ'), (('Harpo', 'NUM'), ('Harpo', 'NOUN'))]]"
      ]
     },
     "execution_count": 41,
     "metadata": {},
     "output_type": "execute_result"
    }
   ],
   "source": [
    "incorrect_tagged_cases"
   ]
  },
  {
   "cell_type": "code",
   "execution_count": 42,
   "metadata": {},
   "outputs": [],
   "source": [
    "## Testing\n",
    "sentence_test = open('Test_sentences.txt',mode='r').read()\n",
    "words = word_tokenize(sentence_test)\n",
    "\n",
    "start = time.time()\n",
    "tagged_seq = Viterbi(words)\n",
    "end = time.time()\n",
    "difference = end-start"
   ]
  },
  {
   "cell_type": "code",
   "execution_count": 43,
   "metadata": {},
   "outputs": [
    {
     "name": "stdout",
     "output_type": "stream",
     "text": [
      "[('Android', 'NUM'), ('is', 'VERB'), ('a', 'DET'), ('mobile', 'ADJ'), ('operating', 'NOUN'), ('system', 'NOUN'), ('developed', 'VERB'), ('by', 'ADP'), ('Google', 'NUM'), ('.', '.'), ('Android', 'NUM'), ('has', 'VERB'), ('been', 'VERB'), ('the', 'DET'), ('best-selling', 'ADJ'), ('OS', 'NUM'), ('worldwide', 'NUM'), ('on', 'ADP'), ('smartphones', 'NUM'), ('since', 'ADP'), ('2011', 'NUM'), ('and', 'CONJ'), ('on', 'ADP'), ('tablets', 'NOUN'), ('since', 'ADP'), ('2013', 'NUM'), ('.', '.'), ('Google', 'NUM'), ('and', 'CONJ'), ('Twitter', 'NUM'), ('made', 'VERB'), ('a', 'DET'), ('deal', 'NOUN'), ('in', 'ADP'), ('2015', 'NUM'), ('that', 'ADP'), ('gave', 'VERB'), ('Google', 'NUM'), ('access', 'NOUN'), ('to', 'PRT'), ('Twitter', 'NUM'), (\"'s\", 'PRT'), ('firehose', 'NUM'), ('.', '.'), ('Twitter', 'NUM'), ('is', 'VERB'), ('an', 'DET'), ('online', 'NUM'), ('news', 'NOUN'), ('and', 'CONJ'), ('social', 'ADJ'), ('networking', 'NOUN'), ('service', 'NOUN'), ('on', 'ADP'), ('which', 'DET'), ('users', 'NOUN'), ('post', 'NOUN'), ('and', 'CONJ'), ('interact', 'NUM'), ('with', 'ADP'), ('messages', 'NUM'), ('known', 'VERB'), ('as', 'ADP'), ('tweets', 'NUM'), ('.', '.'), ('Before', 'ADP'), ('entering', 'VERB'), ('politics', 'NOUN'), (',', '.'), ('Donald', 'NOUN'), ('Trump', 'NOUN'), ('was', 'VERB'), ('a', 'DET'), ('domineering', 'NUM'), ('businessman', 'NOUN'), ('and', 'CONJ'), ('a', 'DET'), ('television', 'NOUN'), ('personality', 'NUM'), ('.', '.'), ('The', 'DET'), ('2018', 'NUM'), ('FIFA', 'NUM'), ('World', 'NOUN'), ('Cup', 'NUM'), ('is', 'VERB'), ('the', 'DET'), ('21st', 'NUM'), ('FIFA', 'NUM'), ('World', 'NOUN'), ('Cup', 'NUM'), (',', '.'), ('an', 'DET'), ('international', 'ADJ'), ('football', 'NOUN'), ('tournament', 'NUM'), ('contested', 'NUM'), ('once', 'ADV'), ('every', 'DET'), ('four', 'NUM'), ('years', 'NOUN'), ('.', '.'), ('This', 'DET'), ('is', 'VERB'), ('the', 'DET'), ('first', 'ADJ'), ('World', 'NOUN'), ('Cup', 'NUM'), ('to', 'PRT'), ('be', 'VERB'), ('held', 'VERB'), ('in', 'ADP'), ('Eastern', 'NOUN'), ('Europe', 'NOUN'), ('and', 'CONJ'), ('the', 'DET'), ('11th', 'ADJ'), ('time', 'NOUN'), ('that', 'ADP'), ('it', 'PRON'), ('has', 'VERB'), ('been', 'VERB'), ('held', 'VERB'), ('in', 'ADP'), ('Europe', 'NOUN'), ('.', '.'), ('Show', 'NOUN'), ('me', 'PRON'), ('the', 'DET'), ('cheapest', 'ADJ'), ('round', 'NOUN'), ('trips', 'NUM'), ('from', 'ADP'), ('Dallas', 'NOUN'), ('to', 'PRT'), ('Atlanta', 'NOUN'), ('I', 'PRON'), ('would', 'VERB'), ('like', 'ADP'), ('to', 'PRT'), ('see', 'VERB'), ('flights', 'NOUN'), ('from', 'ADP'), ('Denver', 'NOUN'), ('to', 'PRT'), ('Philadelphia', 'NOUN'), ('.', '.'), ('Show', 'NOUN'), ('me', 'PRON'), ('the', 'DET'), ('price', 'NOUN'), ('of', 'ADP'), ('the', 'DET'), ('flights', 'NOUN'), ('leaving', 'VERB'), ('Atlanta', 'NOUN'), ('at', 'ADP'), ('about', 'ADP'), ('3', 'NUM'), ('in', 'ADP'), ('the', 'DET'), ('afternoon', 'NOUN'), ('and', 'CONJ'), ('arriving', 'NUM'), ('in', 'ADP'), ('San', 'NOUN'), ('Francisco', 'NOUN'), ('.', '.'), ('NASA', 'NUM'), ('invited', 'NUM'), ('social', 'ADJ'), ('media', 'NOUN'), ('users', 'NOUN'), ('to', 'PRT'), ('experience', 'NOUN'), ('the', 'DET'), ('launch', 'NOUN'), ('of', 'ADP'), ('ICESAT-2', 'NUM'), ('Satellite', 'NUM'), ('.', '.')]\n",
      "65.76630926132202\n"
     ]
    }
   ],
   "source": [
    "print(tagged_seq)\n",
    "print(difference)"
   ]
  },
  {
   "cell_type": "code",
   "execution_count": 44,
   "metadata": {},
   "outputs": [],
   "source": [
    "viterbi_test_tagged_seq = tagged_seq"
   ]
  },
  {
   "cell_type": "markdown",
   "metadata": {},
   "source": [
    "### Models "
   ]
  },
  {
   "cell_type": "markdown",
   "metadata": {},
   "source": [
    "### Rule based tagging"
   ]
  },
  {
   "cell_type": "markdown",
   "metadata": {},
   "source": [
    "#### Regular Expression Based Chunking"
   ]
  },
  {
   "cell_type": "code",
   "execution_count": 45,
   "metadata": {},
   "outputs": [],
   "source": [
    "pattern = [\n",
    "     (r'.*ing$', 'VERB'),                # gerunds\n",
    "     (r'.*ed$', 'VERB'),                 # simple past\n",
    "     (r'.*es$', 'VERB'),                 # 3rd singular present\n",
    "     \n",
    "     (r'.*\\'s$', 'NOUN'),                # possessive nouns\n",
    "     (r'.*s$', 'NOUN'),                  # plural nouns\n",
    "     (r'^-?[0-9]+(\\.[0-9]+)?$', 'NUM'),  # cardinal numbers\n",
    "     (r'.*', 'NOUN')                      # nouns (default)\n",
    " ]"
   ]
  },
  {
   "cell_type": "code",
   "execution_count": 49,
   "metadata": {},
   "outputs": [],
   "source": [
    "def rule_based_tagging(word, pattern):\n",
    "    regexp_tagger = nltk.RegexpTagger(pattern)\n",
    "    kv = regexp_tagger.tag(nltk.word_tokenize(word))\n",
    "    for v in kv:\n",
    "        print(word)\n",
    "        print(v[1])\n",
    "        return v[1]\n"
   ]
  },
  {
   "cell_type": "markdown",
   "metadata": {},
   "source": [
    "### Probabilistic Models "
   ]
  },
  {
   "cell_type": "markdown",
   "metadata": {},
   "source": [
    "### Modifying verterbi algorithm "
   ]
  },
  {
   "cell_type": "code",
   "execution_count": 50,
   "metadata": {},
   "outputs": [],
   "source": [
    "# Viterbi Heuristic\n",
    "def modified_Viterbi_rule_based(words, train_bag = train_tagged_words):\n",
    "    state = []\n",
    "    T = list(set([pair[1] for pair in train_bag]))\n",
    "    \n",
    "    for key, word in enumerate(words):\n",
    "        #initialise list of probability column for a given observation\n",
    "        p = [] \n",
    "        for tag in T:\n",
    "            if key == 0:\n",
    "                transition_p = tags_df.loc['.', tag]\n",
    "            else:\n",
    "                transition_p = tags_df.loc[state[-1], tag]\n",
    "                \n",
    "            # compute emission and state probabilities\n",
    "            emission_p = word_given_tag(words[key], tag)[0]/word_given_tag(words[key], tag)[1]                \n",
    "            state_probability = emission_p * transition_p    \n",
    "            p.append(state_probability)\n",
    "        pmax = max(p)\n",
    "        if pmax == 0.0:       \n",
    "            state_max = rule_based_tagging(word, pattern)\n",
    "            if state_max is None :\n",
    "                state_max = \".\"\n",
    "        else :\n",
    "            state_max = T[p.index(pmax)] \n",
    "        state.append(state_max)\n",
    "    return list(zip(words, state))\n",
    "\n"
   ]
  },
  {
   "cell_type": "code",
   "execution_count": 51,
   "metadata": {},
   "outputs": [
    {
     "name": "stdout",
     "output_type": "stream",
     "text": [
      "life-of-contract\n",
      "NOUN\n",
      "14.54\n",
      "NUM\n",
      "14.28\n",
      "NUM\n",
      "*T*-173\n",
      "NOUN\n",
      "*-104\n",
      "NOUN\n",
      "Mickey\n",
      "NOUN\n",
      "Spillane\n",
      "NOUN\n",
      "Groucho\n",
      "NOUN\n",
      "Harpo\n",
      "NOUN\n",
      "Time taken in seconds:  30.180667638778687\n",
      "[('The', 'DET'), ('March', 'NOUN'), ('and', 'CONJ'), ('May', 'NOUN'), ('contracts', 'NOUN'), ('rose', 'VERB'), ('to', 'PRT'), ('fresh', 'ADJ'), ('life-of-contract', 'NOUN'), ('highs', 'NOUN'), ('of', 'ADP'), ('14.54', 'NUM'), ('cents', 'NOUN'), ('and', 'CONJ'), ('14.28', 'NUM'), ('cents', 'NOUN'), ('at', 'ADP'), ('their', 'PRON'), ('best', 'ADJ'), ('levels', 'NOUN'), ('of', 'ADP'), ('the', 'DET'), ('day', 'NOUN'), ('.', '.'), ('In', 'ADP'), ('the', 'DET'), ('1970s', 'NUM'), (',', '.'), ('scientists', 'NOUN'), ('reported', 'VERB'), ('cancer', 'NOUN'), ('cases', 'NOUN'), ('among', 'ADP'), ('the', 'DET'), ('daughters', 'NOUN'), ('of', 'ADP'), ('DES', 'NOUN'), ('users', 'NOUN'), ('.', '.'), ('The', 'DET'), ('rights', 'NOUN'), (',', '.'), ('which', 'DET'), ('*T*-173', 'NOUN'), ('expire', 'VERB'), ('Nov.', 'NOUN'), ('21', 'NUM'), (',', '.'), ('can', 'VERB'), ('be', 'VERB'), ('exercised', 'VERB'), ('*-104', 'NOUN'), ('for', 'ADP'), ('$', '.'), ('100', 'NUM'), ('*U*', 'X'), ('each', 'DET'), ('.', '.'), ('Mr.', 'NOUN'), ('Spiegel', 'NOUN'), (\"'s\", 'PRT'), ('next', 'ADJ'), ('career', 'NOUN'), ('move', 'NOUN'), ('is', 'VERB'), ('a', 'DET'), ('subject', 'ADJ'), ('of', 'ADP'), ('speculation', 'NOUN'), ('on', 'ADP'), ('Wall', 'NOUN'), ('Street', 'NOUN'), ('.', '.'), ('They', 'PRON'), ('read', 'VERB'), ('Mickey', 'NOUN'), ('Spillane', 'NOUN'), ('and', 'CONJ'), ('talk', 'VERB'), ('about', 'ADP'), ('Groucho', 'NOUN'), ('and', 'CONJ'), ('Harpo', 'NOUN'), ('.', '.')]\n"
     ]
    }
   ],
   "source": [
    "random.seed(1234)\n",
    "\n",
    "# choose random 5 sents\n",
    "rndom = [random.randint(1,len(test_set)) for x in range(5)]\n",
    "\n",
    "# list of sents\n",
    "test_run = [test_set[i] for i in rndom]\n",
    "\n",
    "# list of tagged words\n",
    "test_run_base = [tup for sent in test_run for tup in sent]\n",
    "\n",
    "# list of untagged words\n",
    "test_tagged_words = [tup[0] for sent in test_run for tup in sent]\n",
    "test_run\n",
    "\n",
    "# tagging the test sentences\n",
    "start = time.time()\n",
    "tagged_seq = modified_Viterbi_rule_based(test_tagged_words)\n",
    "end = time.time()\n",
    "difference = end-start\n",
    "\n",
    "print(\"Time taken in seconds: \", difference)\n",
    "print(tagged_seq)"
   ]
  },
  {
   "cell_type": "code",
   "execution_count": 52,
   "metadata": {},
   "outputs": [
    {
     "name": "stdout",
     "output_type": "stream",
     "text": [
      "0.9523809523809523\n"
     ]
    }
   ],
   "source": [
    "# accuracy\n",
    "check = [i for i, j in zip(tagged_seq, test_run_base) if i == j] \n",
    "modified_viterbi_accuracy = len(check)/len(tagged_seq)\n",
    "print(modified_viterbi_accuracy)"
   ]
  },
  {
   "cell_type": "code",
   "execution_count": 53,
   "metadata": {},
   "outputs": [
    {
     "data": {
      "text/plain": [
       "[[('fresh', 'ADJ'),\n",
       "  (('life-of-contract', 'NOUN'), ('life-of-contract', 'ADJ'))],\n",
       " [('which', 'DET'), (('*T*-173', 'NOUN'), ('*T*-173', 'X'))],\n",
       " [('exercised', 'VERB'), (('*-104', 'NOUN'), ('*-104', 'X'))],\n",
       " [('a', 'DET'), (('subject', 'ADJ'), ('subject', 'NOUN'))]]"
      ]
     },
     "execution_count": 53,
     "metadata": {},
     "output_type": "execute_result"
    }
   ],
   "source": [
    "incorrect_tagged_cases = [[test_run_base[i-1],j] for i, j in enumerate(zip(tagged_seq, test_run_base)) if j[0]!=j[1]]\n",
    "incorrect_tagged_cases"
   ]
  },
  {
   "cell_type": "code",
   "execution_count": 54,
   "metadata": {},
   "outputs": [
    {
     "name": "stdout",
     "output_type": "stream",
     "text": [
      "Android\n",
      "NOUN\n",
      "Google\n",
      "NOUN\n",
      "Android\n",
      "NOUN\n",
      "OS\n",
      "NOUN\n",
      "worldwide\n",
      "NOUN\n",
      "smartphones\n",
      "VERB\n",
      "2011\n",
      "NUM\n",
      "2013\n",
      "NUM\n",
      "Google\n",
      "NOUN\n",
      "Twitter\n",
      "NOUN\n",
      "2015\n",
      "NUM\n",
      "Google\n",
      "NOUN\n",
      "Twitter\n",
      "NOUN\n",
      "firehose\n",
      "NOUN\n",
      "Twitter\n",
      "NOUN\n",
      "online\n",
      "NOUN\n",
      "interact\n",
      "NOUN\n",
      "messages\n",
      "VERB\n",
      "tweets\n",
      "NOUN\n",
      "domineering\n",
      "VERB\n",
      "personality\n",
      "NOUN\n",
      "2018\n",
      "NUM\n",
      "FIFA\n",
      "NOUN\n",
      "Cup\n",
      "NOUN\n",
      "21st\n",
      "NOUN\n",
      "FIFA\n",
      "NOUN\n",
      "Cup\n",
      "NOUN\n",
      "tournament\n",
      "NOUN\n",
      "contested\n",
      "VERB\n",
      "Cup\n",
      "NOUN\n",
      "trips\n",
      "NOUN\n",
      "arriving\n",
      "VERB\n",
      "NASA\n",
      "NOUN\n",
      "invited\n",
      "VERB\n",
      "ICESAT-2\n",
      "NOUN\n",
      "Satellite\n",
      "NOUN\n",
      "[('Android', 'NOUN'), ('is', 'VERB'), ('a', 'DET'), ('mobile', 'ADJ'), ('operating', 'NOUN'), ('system', 'NOUN'), ('developed', 'VERB'), ('by', 'ADP'), ('Google', 'NOUN'), ('.', '.'), ('Android', 'NOUN'), ('has', 'VERB'), ('been', 'VERB'), ('the', 'DET'), ('best-selling', 'ADJ'), ('OS', 'NOUN'), ('worldwide', 'NOUN'), ('on', 'ADP'), ('smartphones', 'VERB'), ('since', 'ADP'), ('2011', 'NUM'), ('and', 'CONJ'), ('on', 'ADP'), ('tablets', 'NOUN'), ('since', 'ADP'), ('2013', 'NUM'), ('.', '.'), ('Google', 'NOUN'), ('and', 'CONJ'), ('Twitter', 'NOUN'), ('made', 'VERB'), ('a', 'DET'), ('deal', 'NOUN'), ('in', 'ADP'), ('2015', 'NUM'), ('that', 'ADP'), ('gave', 'VERB'), ('Google', 'NOUN'), ('access', 'NOUN'), ('to', 'PRT'), ('Twitter', 'NOUN'), (\"'s\", 'PRT'), ('firehose', 'NOUN'), ('.', '.'), ('Twitter', 'NOUN'), ('is', 'VERB'), ('an', 'DET'), ('online', 'NOUN'), ('news', 'NOUN'), ('and', 'CONJ'), ('social', 'ADJ'), ('networking', 'NOUN'), ('service', 'NOUN'), ('on', 'ADP'), ('which', 'DET'), ('users', 'NOUN'), ('post', 'NOUN'), ('and', 'CONJ'), ('interact', 'NOUN'), ('with', 'ADP'), ('messages', 'VERB'), ('known', 'VERB'), ('as', 'ADP'), ('tweets', 'NOUN'), ('.', '.'), ('Before', 'ADP'), ('entering', 'VERB'), ('politics', 'NOUN'), (',', '.'), ('Donald', 'NOUN'), ('Trump', 'NOUN'), ('was', 'VERB'), ('a', 'DET'), ('domineering', 'VERB'), ('businessman', 'NOUN'), ('and', 'CONJ'), ('a', 'DET'), ('television', 'NOUN'), ('personality', 'NOUN'), ('.', '.'), ('The', 'DET'), ('2018', 'NUM'), ('FIFA', 'NOUN'), ('World', 'NOUN'), ('Cup', 'NOUN'), ('is', 'VERB'), ('the', 'DET'), ('21st', 'NOUN'), ('FIFA', 'NOUN'), ('World', 'NOUN'), ('Cup', 'NOUN'), (',', '.'), ('an', 'DET'), ('international', 'ADJ'), ('football', 'NOUN'), ('tournament', 'NOUN'), ('contested', 'VERB'), ('once', 'ADV'), ('every', 'DET'), ('four', 'NUM'), ('years', 'NOUN'), ('.', '.'), ('This', 'DET'), ('is', 'VERB'), ('the', 'DET'), ('first', 'ADJ'), ('World', 'NOUN'), ('Cup', 'NOUN'), ('to', 'PRT'), ('be', 'VERB'), ('held', 'VERB'), ('in', 'ADP'), ('Eastern', 'NOUN'), ('Europe', 'NOUN'), ('and', 'CONJ'), ('the', 'DET'), ('11th', 'ADJ'), ('time', 'NOUN'), ('that', 'ADP'), ('it', 'PRON'), ('has', 'VERB'), ('been', 'VERB'), ('held', 'VERB'), ('in', 'ADP'), ('Europe', 'NOUN'), ('.', '.'), ('Show', 'NOUN'), ('me', 'PRON'), ('the', 'DET'), ('cheapest', 'ADJ'), ('round', 'NOUN'), ('trips', 'NOUN'), ('from', 'ADP'), ('Dallas', 'NOUN'), ('to', 'PRT'), ('Atlanta', 'NOUN'), ('I', 'PRON'), ('would', 'VERB'), ('like', 'ADP'), ('to', 'PRT'), ('see', 'VERB'), ('flights', 'NOUN'), ('from', 'ADP'), ('Denver', 'NOUN'), ('to', 'PRT'), ('Philadelphia', 'NOUN'), ('.', '.'), ('Show', 'NOUN'), ('me', 'PRON'), ('the', 'DET'), ('price', 'NOUN'), ('of', 'ADP'), ('the', 'DET'), ('flights', 'NOUN'), ('leaving', 'VERB'), ('Atlanta', 'NOUN'), ('at', 'ADP'), ('about', 'ADP'), ('3', 'NUM'), ('in', 'ADP'), ('the', 'DET'), ('afternoon', 'NOUN'), ('and', 'CONJ'), ('arriving', 'VERB'), ('in', 'ADP'), ('San', 'NOUN'), ('Francisco', 'NOUN'), ('.', '.'), ('NASA', 'NOUN'), ('invited', 'VERB'), ('social', 'ADJ'), ('media', 'NOUN'), ('users', 'NOUN'), ('to', 'PRT'), ('experience', 'NOUN'), ('the', 'DET'), ('launch', 'NOUN'), ('of', 'ADP'), ('ICESAT-2', 'NOUN'), ('Satellite', 'NOUN'), ('.', '.')]\n",
      "65.54472470283508\n"
     ]
    }
   ],
   "source": [
    "sentence_test = open('Test_sentences.txt',mode='r').read()\n",
    "words = word_tokenize(sentence_test)\n",
    "\n",
    "start = time.time()\n",
    "tagged_seq = modified_Viterbi_rule_based(words)\n",
    "end = time.time()\n",
    "difference = end-start\n",
    "\n",
    "print(tagged_seq)\n",
    "print(difference)\n",
    "rulebased_test_tagged_seq = tagged_seq"
   ]
  },
  {
   "cell_type": "code",
   "execution_count": 55,
   "metadata": {},
   "outputs": [],
   "source": [
    "## version  2"
   ]
  },
  {
   "cell_type": "code",
   "execution_count": 56,
   "metadata": {},
   "outputs": [],
   "source": [
    "def bigram_tagger(wording) :\n",
    "    t0 = DefaultTagger('NOUN')\n",
    "    t1 = UnigramTagger(train_set, backoff=t0)\n",
    "    t2 = BigramTagger(train_set, backoff=t1)\n",
    "    listvalue=t2.tag(nltk.word_tokenize(wording))\n",
    "    return listvalue[0][1]"
   ]
  },
  {
   "cell_type": "code",
   "execution_count": 57,
   "metadata": {},
   "outputs": [],
   "source": [
    "def modified_Viterbi_lexicon_based(words, train_bag = train_tagged_words):\n",
    "    state = []\n",
    "    T = list(set([pair[1] for pair in train_bag]))\n",
    "    \n",
    "    for key, word in enumerate(words):\n",
    "        #initialise list of probability column for a given observation\n",
    "        p = [] \n",
    "        for tag in T:\n",
    "            if key == 0:\n",
    "                transition_p = tags_df.loc['.', tag]\n",
    "            else:\n",
    "                transition_p = tags_df.loc[state[-1], tag]\n",
    "                \n",
    "            # compute emission and state probabilities\n",
    "            emission_p = word_given_tag(words[key], tag)[0]/word_given_tag(words[key], tag)[1]                \n",
    "            state_probability = emission_p * transition_p    \n",
    "            p.append(state_probability)\n",
    "        pmax = max(p)\n",
    "        if pmax == 0.0:       \n",
    "            state_max = rule_based_tagging(word, pattern)\n",
    "            if state_max is None :\n",
    "                state_max = \".\"\n",
    "        else :\n",
    "            state_max = T[p.index(pmax)] \n",
    "        state.append(state_max)\n",
    "    return list(zip(words, state))"
   ]
  },
  {
   "cell_type": "code",
   "execution_count": 58,
   "metadata": {},
   "outputs": [
    {
     "name": "stdout",
     "output_type": "stream",
     "text": [
      "life-of-contract\n",
      "NOUN\n",
      "14.54\n",
      "NUM\n",
      "14.28\n",
      "NUM\n",
      "*T*-173\n",
      "NOUN\n",
      "*-104\n",
      "NOUN\n",
      "Mickey\n",
      "NOUN\n",
      "Spillane\n",
      "NOUN\n",
      "Groucho\n",
      "NOUN\n",
      "Harpo\n",
      "NOUN\n",
      "Time taken in seconds:  30.0580792427063\n",
      "[('The', 'DET'), ('March', 'NOUN'), ('and', 'CONJ'), ('May', 'NOUN'), ('contracts', 'NOUN'), ('rose', 'VERB'), ('to', 'PRT'), ('fresh', 'ADJ'), ('life-of-contract', 'NOUN'), ('highs', 'NOUN'), ('of', 'ADP'), ('14.54', 'NUM'), ('cents', 'NOUN'), ('and', 'CONJ'), ('14.28', 'NUM'), ('cents', 'NOUN'), ('at', 'ADP'), ('their', 'PRON'), ('best', 'ADJ'), ('levels', 'NOUN'), ('of', 'ADP'), ('the', 'DET'), ('day', 'NOUN'), ('.', '.'), ('In', 'ADP'), ('the', 'DET'), ('1970s', 'NUM'), (',', '.'), ('scientists', 'NOUN'), ('reported', 'VERB'), ('cancer', 'NOUN'), ('cases', 'NOUN'), ('among', 'ADP'), ('the', 'DET'), ('daughters', 'NOUN'), ('of', 'ADP'), ('DES', 'NOUN'), ('users', 'NOUN'), ('.', '.'), ('The', 'DET'), ('rights', 'NOUN'), (',', '.'), ('which', 'DET'), ('*T*-173', 'NOUN'), ('expire', 'VERB'), ('Nov.', 'NOUN'), ('21', 'NUM'), (',', '.'), ('can', 'VERB'), ('be', 'VERB'), ('exercised', 'VERB'), ('*-104', 'NOUN'), ('for', 'ADP'), ('$', '.'), ('100', 'NUM'), ('*U*', 'X'), ('each', 'DET'), ('.', '.'), ('Mr.', 'NOUN'), ('Spiegel', 'NOUN'), (\"'s\", 'PRT'), ('next', 'ADJ'), ('career', 'NOUN'), ('move', 'NOUN'), ('is', 'VERB'), ('a', 'DET'), ('subject', 'ADJ'), ('of', 'ADP'), ('speculation', 'NOUN'), ('on', 'ADP'), ('Wall', 'NOUN'), ('Street', 'NOUN'), ('.', '.'), ('They', 'PRON'), ('read', 'VERB'), ('Mickey', 'NOUN'), ('Spillane', 'NOUN'), ('and', 'CONJ'), ('talk', 'VERB'), ('about', 'ADP'), ('Groucho', 'NOUN'), ('and', 'CONJ'), ('Harpo', 'NOUN'), ('.', '.')]\n"
     ]
    }
   ],
   "source": [
    "random.seed(1234)\n",
    "\n",
    "# choose random 5 sents\n",
    "rndom = [random.randint(1,len(test_set)) for x in range(5)]\n",
    "\n",
    "# list of sents\n",
    "test_run = [test_set[i] for i in rndom]\n",
    "\n",
    "# list of tagged words\n",
    "test_run_base = [tup for sent in test_run for tup in sent]\n",
    "\n",
    "# list of untagged words\n",
    "test_tagged_words = [tup[0] for sent in test_run for tup in sent]\n",
    "test_run\n",
    "\n",
    "# tagging the test sentences\n",
    "start = time.time()\n",
    "tagged_seq = modified_Viterbi_lexicon_based(test_tagged_words)\n",
    "end = time.time()\n",
    "difference = end-start\n",
    "\n",
    "print(\"Time taken in seconds: \", difference)\n",
    "print(tagged_seq)"
   ]
  },
  {
   "cell_type": "code",
   "execution_count": 59,
   "metadata": {},
   "outputs": [
    {
     "name": "stdout",
     "output_type": "stream",
     "text": [
      "0.9523809523809523\n"
     ]
    },
    {
     "data": {
      "text/plain": [
       "[[('fresh', 'ADJ'),\n",
       "  (('life-of-contract', 'NOUN'), ('life-of-contract', 'ADJ'))],\n",
       " [('which', 'DET'), (('*T*-173', 'NOUN'), ('*T*-173', 'X'))],\n",
       " [('exercised', 'VERB'), (('*-104', 'NOUN'), ('*-104', 'X'))],\n",
       " [('a', 'DET'), (('subject', 'ADJ'), ('subject', 'NOUN'))]]"
      ]
     },
     "execution_count": 59,
     "metadata": {},
     "output_type": "execute_result"
    }
   ],
   "source": [
    "# accuracy\n",
    "check = [i for i, j in zip(tagged_seq, test_run_base) if i == j] \n",
    "lexicon_accuracy = len(check)/len(tagged_seq)\n",
    "print(lexicon_accuracy)\n",
    "\n",
    "incorrect_tagged_cases = [[test_run_base[i-1],j] for i, j in enumerate(zip(tagged_seq, test_run_base)) if j[0]!=j[1]]\n",
    "incorrect_tagged_cases"
   ]
  },
  {
   "cell_type": "code",
   "execution_count": 60,
   "metadata": {},
   "outputs": [
    {
     "name": "stdout",
     "output_type": "stream",
     "text": [
      "Android\n",
      "NOUN\n",
      "Google\n",
      "NOUN\n",
      "Android\n",
      "NOUN\n",
      "OS\n",
      "NOUN\n",
      "worldwide\n",
      "NOUN\n",
      "smartphones\n",
      "VERB\n",
      "2011\n",
      "NUM\n",
      "2013\n",
      "NUM\n",
      "Google\n",
      "NOUN\n",
      "Twitter\n",
      "NOUN\n",
      "2015\n",
      "NUM\n",
      "Google\n",
      "NOUN\n",
      "Twitter\n",
      "NOUN\n",
      "firehose\n",
      "NOUN\n",
      "Twitter\n",
      "NOUN\n",
      "online\n",
      "NOUN\n",
      "interact\n",
      "NOUN\n",
      "messages\n",
      "VERB\n",
      "tweets\n",
      "NOUN\n",
      "domineering\n",
      "VERB\n",
      "personality\n",
      "NOUN\n",
      "2018\n",
      "NUM\n",
      "FIFA\n",
      "NOUN\n",
      "Cup\n",
      "NOUN\n",
      "21st\n",
      "NOUN\n",
      "FIFA\n",
      "NOUN\n",
      "Cup\n",
      "NOUN\n",
      "tournament\n",
      "NOUN\n",
      "contested\n",
      "VERB\n",
      "Cup\n",
      "NOUN\n",
      "trips\n",
      "NOUN\n",
      "arriving\n",
      "VERB\n",
      "NASA\n",
      "NOUN\n",
      "invited\n",
      "VERB\n",
      "ICESAT-2\n",
      "NOUN\n",
      "Satellite\n",
      "NOUN\n",
      "[('Android', 'NOUN'), ('is', 'VERB'), ('a', 'DET'), ('mobile', 'ADJ'), ('operating', 'NOUN'), ('system', 'NOUN'), ('developed', 'VERB'), ('by', 'ADP'), ('Google', 'NOUN'), ('.', '.'), ('Android', 'NOUN'), ('has', 'VERB'), ('been', 'VERB'), ('the', 'DET'), ('best-selling', 'ADJ'), ('OS', 'NOUN'), ('worldwide', 'NOUN'), ('on', 'ADP'), ('smartphones', 'VERB'), ('since', 'ADP'), ('2011', 'NUM'), ('and', 'CONJ'), ('on', 'ADP'), ('tablets', 'NOUN'), ('since', 'ADP'), ('2013', 'NUM'), ('.', '.'), ('Google', 'NOUN'), ('and', 'CONJ'), ('Twitter', 'NOUN'), ('made', 'VERB'), ('a', 'DET'), ('deal', 'NOUN'), ('in', 'ADP'), ('2015', 'NUM'), ('that', 'ADP'), ('gave', 'VERB'), ('Google', 'NOUN'), ('access', 'NOUN'), ('to', 'PRT'), ('Twitter', 'NOUN'), (\"'s\", 'PRT'), ('firehose', 'NOUN'), ('.', '.'), ('Twitter', 'NOUN'), ('is', 'VERB'), ('an', 'DET'), ('online', 'NOUN'), ('news', 'NOUN'), ('and', 'CONJ'), ('social', 'ADJ'), ('networking', 'NOUN'), ('service', 'NOUN'), ('on', 'ADP'), ('which', 'DET'), ('users', 'NOUN'), ('post', 'NOUN'), ('and', 'CONJ'), ('interact', 'NOUN'), ('with', 'ADP'), ('messages', 'VERB'), ('known', 'VERB'), ('as', 'ADP'), ('tweets', 'NOUN'), ('.', '.'), ('Before', 'ADP'), ('entering', 'VERB'), ('politics', 'NOUN'), (',', '.'), ('Donald', 'NOUN'), ('Trump', 'NOUN'), ('was', 'VERB'), ('a', 'DET'), ('domineering', 'VERB'), ('businessman', 'NOUN'), ('and', 'CONJ'), ('a', 'DET'), ('television', 'NOUN'), ('personality', 'NOUN'), ('.', '.'), ('The', 'DET'), ('2018', 'NUM'), ('FIFA', 'NOUN'), ('World', 'NOUN'), ('Cup', 'NOUN'), ('is', 'VERB'), ('the', 'DET'), ('21st', 'NOUN'), ('FIFA', 'NOUN'), ('World', 'NOUN'), ('Cup', 'NOUN'), (',', '.'), ('an', 'DET'), ('international', 'ADJ'), ('football', 'NOUN'), ('tournament', 'NOUN'), ('contested', 'VERB'), ('once', 'ADV'), ('every', 'DET'), ('four', 'NUM'), ('years', 'NOUN'), ('.', '.'), ('This', 'DET'), ('is', 'VERB'), ('the', 'DET'), ('first', 'ADJ'), ('World', 'NOUN'), ('Cup', 'NOUN'), ('to', 'PRT'), ('be', 'VERB'), ('held', 'VERB'), ('in', 'ADP'), ('Eastern', 'NOUN'), ('Europe', 'NOUN'), ('and', 'CONJ'), ('the', 'DET'), ('11th', 'ADJ'), ('time', 'NOUN'), ('that', 'ADP'), ('it', 'PRON'), ('has', 'VERB'), ('been', 'VERB'), ('held', 'VERB'), ('in', 'ADP'), ('Europe', 'NOUN'), ('.', '.'), ('Show', 'NOUN'), ('me', 'PRON'), ('the', 'DET'), ('cheapest', 'ADJ'), ('round', 'NOUN'), ('trips', 'NOUN'), ('from', 'ADP'), ('Dallas', 'NOUN'), ('to', 'PRT'), ('Atlanta', 'NOUN'), ('I', 'PRON'), ('would', 'VERB'), ('like', 'ADP'), ('to', 'PRT'), ('see', 'VERB'), ('flights', 'NOUN'), ('from', 'ADP'), ('Denver', 'NOUN'), ('to', 'PRT'), ('Philadelphia', 'NOUN'), ('.', '.'), ('Show', 'NOUN'), ('me', 'PRON'), ('the', 'DET'), ('price', 'NOUN'), ('of', 'ADP'), ('the', 'DET'), ('flights', 'NOUN'), ('leaving', 'VERB'), ('Atlanta', 'NOUN'), ('at', 'ADP'), ('about', 'ADP'), ('3', 'NUM'), ('in', 'ADP'), ('the', 'DET'), ('afternoon', 'NOUN'), ('and', 'CONJ'), ('arriving', 'VERB'), ('in', 'ADP'), ('San', 'NOUN'), ('Francisco', 'NOUN'), ('.', '.'), ('NASA', 'NOUN'), ('invited', 'VERB'), ('social', 'ADJ'), ('media', 'NOUN'), ('users', 'NOUN'), ('to', 'PRT'), ('experience', 'NOUN'), ('the', 'DET'), ('launch', 'NOUN'), ('of', 'ADP'), ('ICESAT-2', 'NOUN'), ('Satellite', 'NOUN'), ('.', '.')]\n",
      "66.50114440917969\n"
     ]
    }
   ],
   "source": [
    "sentence_test = open('Test_sentences.txt',mode='r').read()\n",
    "words = word_tokenize(sentence_test)\n",
    "\n",
    "start = time.time()\n",
    "tagged_seq = modified_Viterbi_lexicon_based(words)\n",
    "end = time.time()\n",
    "difference = end-start\n",
    "\n",
    "print(tagged_seq)\n",
    "print(difference)\n",
    "lexicon_test_tagged_seq = tagged_seq"
   ]
  },
  {
   "cell_type": "markdown",
   "metadata": {},
   "source": [
    "### Compare the tagging accuracies of the modifications with the vanilla Viterbi algorithm"
   ]
  },
  {
   "cell_type": "code",
   "execution_count": 61,
   "metadata": {},
   "outputs": [
    {
     "name": "stdout",
     "output_type": "stream",
     "text": [
      "Vannila Viterbi Accuracy: 0.9047619047619048\n",
      "Lexicon Based Viterbi Accuracy: 0.9523809523809523\n",
      "Rule Based Viterbi Accuracy: 0.9523809523809523\n"
     ]
    }
   ],
   "source": [
    "print(\"Vannila Viterbi Accuracy: \"+ str(viterbi_accuracy))\n",
    "print(\"Lexicon Based Viterbi Accuracy: \"+ str(lexicon_accuracy))\n",
    "print(\"Rule Based Viterbi Accuracy: \"+ str(modified_viterbi_accuracy))"
   ]
  },
  {
   "cell_type": "code",
   "execution_count": null,
   "metadata": {},
   "outputs": [],
   "source": []
  },
  {
   "cell_type": "markdown",
   "metadata": {},
   "source": [
    "### List down cases which were incorrectly tagged by original POS tagger and got corrected by your modifications"
   ]
  },
  {
   "cell_type": "markdown",
   "metadata": {},
   "source": [
    "### 1) Using rule_based modified viterbi , the words like Google, Android, Twitter which were tagged as num earlier are modified to NOUN"
   ]
  },
  {
   "cell_type": "markdown",
   "metadata": {},
   "source": [
    "### 2) The Verbs which were mistagged were corrected"
   ]
  },
  {
   "cell_type": "markdown",
   "metadata": {},
   "source": [
    "### 3) Words ending with -ing, -ed were tagged as VERB using Rule Based modified viterbi"
   ]
  },
  {
   "cell_type": "markdown",
   "metadata": {},
   "source": [
    "### 4) The integers , numbers are tagged to NUM"
   ]
  },
  {
   "cell_type": "code",
   "execution_count": null,
   "metadata": {},
   "outputs": [],
   "source": []
  }
 ],
 "metadata": {
  "kernelspec": {
   "display_name": "Python 3",
   "language": "python",
   "name": "python3"
  },
  "language_info": {
   "codemirror_mode": {
    "name": "ipython",
    "version": 3
   },
   "file_extension": ".py",
   "mimetype": "text/x-python",
   "name": "python",
   "nbconvert_exporter": "python",
   "pygments_lexer": "ipython3",
   "version": "3.7.3"
  }
 },
 "nbformat": 4,
 "nbformat_minor": 2
}
